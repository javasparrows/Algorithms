{
 "cells": [
  {
   "cell_type": "code",
   "execution_count": 1,
   "id": "b86e204e-594b-4283-a48e-d84b3bb5b4b9",
   "metadata": {},
   "outputs": [],
   "source": [
    "import numpy as np"
   ]
  },
  {
   "cell_type": "code",
   "execution_count": 22,
   "id": "91024da1-6df7-4568-83e9-d9ec6bddbe16",
   "metadata": {},
   "outputs": [],
   "source": [
    "List = np.random.randint(0, 1000, 100)"
   ]
  },
  {
   "cell_type": "code",
   "execution_count": 23,
   "id": "e1ca63ef-c91d-4cfe-bf49-95aa51d7f654",
   "metadata": {},
   "outputs": [
    {
     "data": {
      "text/plain": [
       "array([ 39, 629, 228, 810, 304, 343, 277, 235, 511, 506, 953, 546, 378,\n",
       "       639, 826, 603, 442, 607, 586, 843, 825, 259, 298,  45, 855, 808,\n",
       "       345, 854,  86, 582, 845, 164, 724, 251, 719, 180, 518, 981, 285,\n",
       "       900, 661, 779, 817, 244, 124, 322, 254,  42, 867, 717, 584, 583,\n",
       "       323, 330, 230, 144, 140,  67, 406, 563,  39, 991, 955, 915, 538,\n",
       "       691, 207, 761, 101, 329, 596, 727, 698, 467, 569,  20, 969, 996,\n",
       "       245, 306, 563, 750, 533, 153, 590, 836, 153,  22, 304, 652, 305,\n",
       "        13, 346, 352, 655, 949,  84, 385, 555, 439])"
      ]
     },
     "execution_count": 23,
     "metadata": {},
     "output_type": "execute_result"
    }
   ],
   "source": [
    "List"
   ]
  },
  {
   "cell_type": "markdown",
   "id": "6b61e942-a693-4c62-9a78-dde2f3bd1cd3",
   "metadata": {},
   "source": [
    "# バブルソート\n",
    "必ずn(n-1)/2回の比較が行われる。したがって、計算回数のオーダーはO(n^2)"
   ]
  },
  {
   "cell_type": "code",
   "execution_count": 24,
   "id": "a8009045-9949-4a8a-b14d-063be646580e",
   "metadata": {},
   "outputs": [
    {
     "name": "stdout",
     "output_type": "stream",
     "text": [
      "[ 13  20  22  39  39  42  45  67  84  86 101 124 140 144 153 153 164 180\n",
      " 207 228 230 235 244 245 251 254 259 277 285 298 304 304 305 306 322 323\n",
      " 329 330 343 345 346 352 378 385 406 439 442 467 506 511 518 533 538 546\n",
      " 555 563 563 569 582 583 584 586 590 596 603 607 629 639 652 655 661 691\n",
      " 698 717 719 724 727 750 761 779 808 810 817 825 826 836 843 845 854 855\n",
      " 867 900 915 949 953 955 969 981 991 996]\n",
      "CPU times: user 2.67 ms, sys: 0 ns, total: 2.67 ms\n",
      "Wall time: 2.68 ms\n"
     ]
    }
   ],
   "source": [
    "%%time\n",
    "size = len(List)\n",
    "for left in range(size):\n",
    "    for right in range(left+1, size):\n",
    "        if List[left] > List[right]:\n",
    "            tmp1 = List[left]\n",
    "            tmp2 = List[right]\n",
    "            List[left] = tmp2\n",
    "            List[right] = tmp1\n",
    "print(List)"
   ]
  },
  {
   "cell_type": "markdown",
   "id": "57798696-c1b8-42cf-a996-b229ce0a3b4b",
   "metadata": {},
   "source": [
    "# クイックソート\n",
    "O(n log n), 最悪O(n^2)"
   ]
  },
  {
   "cell_type": "code",
   "execution_count": null,
   "id": "a8bfb435-5f8f-48fb-9466-524717ea26ba",
   "metadata": {},
   "outputs": [],
   "source": [
    "%%time\n",
    "size = len(List)\n",
    "\n",
    "print(List)"
   ]
  },
  {
   "cell_type": "markdown",
   "id": "d9ddae01-a3f8-49f6-be11-47306f56fd99",
   "metadata": {},
   "source": [
    "# マージソート\n",
    "最悪ケースでもO(n log n)"
   ]
  },
  {
   "cell_type": "code",
   "execution_count": null,
   "id": "810ed30c-43bd-400c-ab28-b55e998dd026",
   "metadata": {},
   "outputs": [],
   "source": []
  },
  {
   "cell_type": "markdown",
   "id": "b5c1a2d2-4cf1-4579-8805-f43b5a18b8a7",
   "metadata": {},
   "source": [
    "# 選択ソート\n",
    "比較回数は、n(n-1)/2。つまり、O(n^2)であり、バブルソートと同じ。\n",
    "しかし、交換回数は多くてもn-1回であり、バブルソートよりも高速"
   ]
  },
  {
   "cell_type": "code",
   "execution_count": null,
   "id": "679ae5c9-6ffd-42b0-bb16-cceac271213f",
   "metadata": {},
   "outputs": [],
   "source": []
  },
  {
   "cell_type": "markdown",
   "id": "7abe5002-11b6-4bc0-8444-552c7b5d043c",
   "metadata": {},
   "source": [
    "# 挿入ソート\n",
    "比較回数は、最悪の場合にn(n-1)/2ですが、整列済みの部分が明確になっているデータに対してはこれよりも少なくて済みます。\n",
    "バブルソートの場合、隣り合う値を比較・交換していきますが、挿入ソートでは適切な位置へ一発で挿入するため、ソート済み部分が多いとより有効なアルゴリズムになっています。\n",
    "\n",
    "交換回数はバブルソートと同じです。したがって、適用するケースにもよりますが、バブルソートよりも高速であることが多いです。"
   ]
  },
  {
   "cell_type": "code",
   "execution_count": null,
   "id": "ec16244d-0bc7-4482-a244-a38793f98cf9",
   "metadata": {},
   "outputs": [],
   "source": []
  },
  {
   "cell_type": "markdown",
   "id": "c66724e8-afea-4e14-9bd9-961108c2869c",
   "metadata": {},
   "source": [
    "# ヒープソート\n",
    "最悪でもO(n log n)"
   ]
  },
  {
   "cell_type": "code",
   "execution_count": null,
   "id": "34941915-b817-4e01-a79f-194703fc6338",
   "metadata": {},
   "outputs": [],
   "source": []
  }
 ],
 "metadata": {
  "kernelspec": {
   "display_name": "Python 3",
   "language": "python",
   "name": "python3"
  },
  "language_info": {
   "codemirror_mode": {
    "name": "ipython",
    "version": 3
   },
   "file_extension": ".py",
   "mimetype": "text/x-python",
   "name": "python",
   "nbconvert_exporter": "python",
   "pygments_lexer": "ipython3",
   "version": "3.7.10"
  }
 },
 "nbformat": 4,
 "nbformat_minor": 5
}
